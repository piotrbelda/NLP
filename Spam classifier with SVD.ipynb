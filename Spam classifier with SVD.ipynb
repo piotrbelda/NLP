{
 "cells": [
  {
   "cell_type": "code",
   "execution_count": 1,
   "metadata": {},
   "outputs": [
    {
     "name": "stderr",
     "output_type": "stream",
     "text": [
      "INFO:nlpia.constants:Starting logger in nlpia.constants...\n",
      "INFO:nlpia.loaders:No BIGDATA index found in C:\\ProgramData\\Anaconda3\\lib\\site-packages\\nlpia\\data\\bigdata_info.csv so copy C:\\ProgramData\\Anaconda3\\lib\\site-packages\\nlpia\\data\\bigdata_info.latest.csv to C:\\ProgramData\\Anaconda3\\lib\\site-packages\\nlpia\\data\\bigdata_info.csv if you want to \"freeze\" it.\n",
      "INFO:nlpia.futil:Reading CSV with `read_csv(*('C:\\\\ProgramData\\\\Anaconda3\\\\lib\\\\site-packages\\\\nlpia\\\\data\\\\mavis-batey-greetings.csv',), **{'low_memory': False})`...\n",
      "INFO:nlpia.futil:Reading CSV with `read_csv(*('C:\\\\ProgramData\\\\Anaconda3\\\\lib\\\\site-packages\\\\nlpia\\\\data\\\\sms-spam.csv',), **{'low_memory': False})`...\n"
     ]
    }
   ],
   "source": [
    "import pandas as pd\n",
    "from nlpia.data.loaders import get_data\n",
    "pd.options.display.width=120"
   ]
  },
  {
   "cell_type": "code",
   "execution_count": 2,
   "metadata": {},
   "outputs": [
    {
     "name": "stderr",
     "output_type": "stream",
     "text": [
      "INFO:nlpia.futil:Reading CSV with `read_csv(*('C:\\\\ProgramData\\\\Anaconda3\\\\lib\\\\site-packages\\\\nlpia\\\\data\\\\sms-spam.csv',), **{'nrows': None, 'low_memory': False})`...\n"
     ]
    }
   ],
   "source": [
    "sms=get_data('sms-spam')"
   ]
  },
  {
   "cell_type": "code",
   "execution_count": 3,
   "metadata": {},
   "outputs": [],
   "source": [
    "index=[\"spam{}{}\".format(i,'!'*j) for (i,j) in zip(range(len(sms)),sms.spam)]"
   ]
  },
  {
   "cell_type": "code",
   "execution_count": 4,
   "metadata": {},
   "outputs": [],
   "source": [
    "sms.index=index"
   ]
  },
  {
   "cell_type": "code",
   "execution_count": 5,
   "metadata": {},
   "outputs": [
    {
     "data": {
      "text/html": [
       "<div>\n",
       "<style scoped>\n",
       "    .dataframe tbody tr th:only-of-type {\n",
       "        vertical-align: middle;\n",
       "    }\n",
       "\n",
       "    .dataframe tbody tr th {\n",
       "        vertical-align: top;\n",
       "    }\n",
       "\n",
       "    .dataframe thead th {\n",
       "        text-align: right;\n",
       "    }\n",
       "</style>\n",
       "<table border=\"1\" class=\"dataframe\">\n",
       "  <thead>\n",
       "    <tr style=\"text-align: right;\">\n",
       "      <th></th>\n",
       "      <th>spam</th>\n",
       "      <th>text</th>\n",
       "    </tr>\n",
       "  </thead>\n",
       "  <tbody>\n",
       "    <tr>\n",
       "      <th>spam0</th>\n",
       "      <td>0</td>\n",
       "      <td>Go until jurong point, crazy.. Available only ...</td>\n",
       "    </tr>\n",
       "    <tr>\n",
       "      <th>spam1</th>\n",
       "      <td>0</td>\n",
       "      <td>Ok lar... Joking wif u oni...</td>\n",
       "    </tr>\n",
       "    <tr>\n",
       "      <th>spam2!</th>\n",
       "      <td>1</td>\n",
       "      <td>Free entry in 2 a wkly comp to win FA Cup fina...</td>\n",
       "    </tr>\n",
       "    <tr>\n",
       "      <th>spam3</th>\n",
       "      <td>0</td>\n",
       "      <td>U dun say so early hor... U c already then say...</td>\n",
       "    </tr>\n",
       "    <tr>\n",
       "      <th>spam4</th>\n",
       "      <td>0</td>\n",
       "      <td>Nah I don't think he goes to usf, he lives aro...</td>\n",
       "    </tr>\n",
       "  </tbody>\n",
       "</table>\n",
       "</div>"
      ],
      "text/plain": [
       "        spam                                               text\n",
       "spam0      0  Go until jurong point, crazy.. Available only ...\n",
       "spam1      0                      Ok lar... Joking wif u oni...\n",
       "spam2!     1  Free entry in 2 a wkly comp to win FA Cup fina...\n",
       "spam3      0  U dun say so early hor... U c already then say...\n",
       "spam4      0  Nah I don't think he goes to usf, he lives aro..."
      ]
     },
     "execution_count": 5,
     "metadata": {},
     "output_type": "execute_result"
    }
   ],
   "source": [
    "sms.head()"
   ]
  },
  {
   "cell_type": "code",
   "execution_count": 6,
   "metadata": {},
   "outputs": [],
   "source": [
    "from sklearn.feature_extraction.text import TfidfVectorizer"
   ]
  },
  {
   "cell_type": "code",
   "execution_count": 7,
   "metadata": {},
   "outputs": [],
   "source": [
    "from nltk.tokenize.casual import casual_tokenize"
   ]
  },
  {
   "cell_type": "code",
   "execution_count": 8,
   "metadata": {},
   "outputs": [],
   "source": [
    "tfidf=TfidfVectorizer(tokenizer=casual_tokenize)"
   ]
  },
  {
   "cell_type": "code",
   "execution_count": 9,
   "metadata": {},
   "outputs": [],
   "source": [
    "tfidf_docs=tfidf.fit_transform(raw_documents=sms.text).toarray()"
   ]
  },
  {
   "cell_type": "code",
   "execution_count": 10,
   "metadata": {},
   "outputs": [
    {
     "data": {
      "text/plain": [
       "9232"
      ]
     },
     "execution_count": 10,
     "metadata": {},
     "output_type": "execute_result"
    }
   ],
   "source": [
    "len(tfidf.vocabulary_)"
   ]
  },
  {
   "cell_type": "code",
   "execution_count": 11,
   "metadata": {},
   "outputs": [],
   "source": [
    "tfidf_docs=pd.DataFrame(tfidf_docs)"
   ]
  },
  {
   "cell_type": "code",
   "execution_count": 12,
   "metadata": {},
   "outputs": [],
   "source": [
    "tfidf_docs=tfidf_docs-tfidf_docs.mean()"
   ]
  },
  {
   "cell_type": "code",
   "execution_count": 13,
   "metadata": {},
   "outputs": [
    {
     "data": {
      "text/plain": [
       "(4837, 9232)"
      ]
     },
     "execution_count": 13,
     "metadata": {},
     "output_type": "execute_result"
    }
   ],
   "source": [
    "tfidf_docs.shape"
   ]
  },
  {
   "cell_type": "code",
   "execution_count": 14,
   "metadata": {},
   "outputs": [
    {
     "data": {
      "text/plain": [
       "638"
      ]
     },
     "execution_count": 14,
     "metadata": {},
     "output_type": "execute_result"
    }
   ],
   "source": [
    "sms.spam.sum()"
   ]
  },
  {
   "cell_type": "code",
   "execution_count": 15,
   "metadata": {},
   "outputs": [],
   "source": [
    "from sklearn.decomposition import PCA"
   ]
  },
  {
   "cell_type": "code",
   "execution_count": 16,
   "metadata": {},
   "outputs": [],
   "source": [
    "pca=PCA(n_components=16)"
   ]
  },
  {
   "cell_type": "code",
   "execution_count": 17,
   "metadata": {},
   "outputs": [],
   "source": [
    "pca=pca.fit(tfidf_docs)"
   ]
  },
  {
   "cell_type": "code",
   "execution_count": 18,
   "metadata": {},
   "outputs": [],
   "source": [
    "pca_topic_vectors=pca.transform(tfidf_docs)"
   ]
  },
  {
   "cell_type": "code",
   "execution_count": 19,
   "metadata": {},
   "outputs": [],
   "source": [
    "columns=['topic{}'.format(i) for i in range(pca.n_components)]"
   ]
  },
  {
   "cell_type": "code",
   "execution_count": 20,
   "metadata": {},
   "outputs": [],
   "source": [
    "pca_topic_vectors=pd.DataFrame(pca_topic_vectors,columns=columns,index=index)"
   ]
  },
  {
   "cell_type": "code",
   "execution_count": 21,
   "metadata": {},
   "outputs": [
    {
     "data": {
      "text/html": [
       "<div>\n",
       "<style scoped>\n",
       "    .dataframe tbody tr th:only-of-type {\n",
       "        vertical-align: middle;\n",
       "    }\n",
       "\n",
       "    .dataframe tbody tr th {\n",
       "        vertical-align: top;\n",
       "    }\n",
       "\n",
       "    .dataframe thead th {\n",
       "        text-align: right;\n",
       "    }\n",
       "</style>\n",
       "<table border=\"1\" class=\"dataframe\">\n",
       "  <thead>\n",
       "    <tr style=\"text-align: right;\">\n",
       "      <th></th>\n",
       "      <th>topic0</th>\n",
       "      <th>topic1</th>\n",
       "      <th>topic2</th>\n",
       "      <th>topic3</th>\n",
       "      <th>topic4</th>\n",
       "      <th>topic5</th>\n",
       "      <th>topic6</th>\n",
       "      <th>topic7</th>\n",
       "      <th>topic8</th>\n",
       "      <th>topic9</th>\n",
       "      <th>topic10</th>\n",
       "      <th>topic11</th>\n",
       "      <th>topic12</th>\n",
       "      <th>topic13</th>\n",
       "      <th>topic14</th>\n",
       "      <th>topic15</th>\n",
       "    </tr>\n",
       "  </thead>\n",
       "  <tbody>\n",
       "    <tr>\n",
       "      <th>spam0</th>\n",
       "      <td>0.201168</td>\n",
       "      <td>0.002759</td>\n",
       "      <td>0.037228</td>\n",
       "      <td>0.010981</td>\n",
       "      <td>-0.019207</td>\n",
       "      <td>-0.052933</td>\n",
       "      <td>0.039108</td>\n",
       "      <td>-0.065877</td>\n",
       "      <td>0.011954</td>\n",
       "      <td>-0.082108</td>\n",
       "      <td>0.007014</td>\n",
       "      <td>0.003900</td>\n",
       "      <td>-0.009920</td>\n",
       "      <td>-0.018896</td>\n",
       "      <td>-0.009127</td>\n",
       "      <td>0.034069</td>\n",
       "    </tr>\n",
       "    <tr>\n",
       "      <th>spam1</th>\n",
       "      <td>0.404380</td>\n",
       "      <td>-0.093879</td>\n",
       "      <td>-0.077516</td>\n",
       "      <td>0.050893</td>\n",
       "      <td>0.100062</td>\n",
       "      <td>0.047156</td>\n",
       "      <td>0.022895</td>\n",
       "      <td>0.064805</td>\n",
       "      <td>0.023086</td>\n",
       "      <td>-0.024181</td>\n",
       "      <td>-0.005090</td>\n",
       "      <td>-0.040698</td>\n",
       "      <td>0.030589</td>\n",
       "      <td>-0.037617</td>\n",
       "      <td>0.060921</td>\n",
       "      <td>0.000459</td>\n",
       "    </tr>\n",
       "    <tr>\n",
       "      <th>spam2!</th>\n",
       "      <td>-0.030458</td>\n",
       "      <td>-0.048114</td>\n",
       "      <td>0.090183</td>\n",
       "      <td>-0.067078</td>\n",
       "      <td>0.090754</td>\n",
       "      <td>-0.043049</td>\n",
       "      <td>-0.000363</td>\n",
       "      <td>-0.001131</td>\n",
       "      <td>-0.056279</td>\n",
       "      <td>0.051145</td>\n",
       "      <td>0.127465</td>\n",
       "      <td>-0.022684</td>\n",
       "      <td>0.016768</td>\n",
       "      <td>-0.012434</td>\n",
       "      <td>-0.032040</td>\n",
       "      <td>0.051736</td>\n",
       "    </tr>\n",
       "    <tr>\n",
       "      <th>spam3</th>\n",
       "      <td>0.329047</td>\n",
       "      <td>-0.032781</td>\n",
       "      <td>-0.034562</td>\n",
       "      <td>-0.015795</td>\n",
       "      <td>0.052273</td>\n",
       "      <td>0.055629</td>\n",
       "      <td>-0.165693</td>\n",
       "      <td>-0.074899</td>\n",
       "      <td>0.061215</td>\n",
       "      <td>-0.107794</td>\n",
       "      <td>0.022755</td>\n",
       "      <td>-0.028829</td>\n",
       "      <td>0.054565</td>\n",
       "      <td>-0.086998</td>\n",
       "      <td>0.035908</td>\n",
       "      <td>-0.061661</td>\n",
       "    </tr>\n",
       "    <tr>\n",
       "      <th>spam4</th>\n",
       "      <td>0.002159</td>\n",
       "      <td>0.030850</td>\n",
       "      <td>0.038305</td>\n",
       "      <td>0.033865</td>\n",
       "      <td>-0.074720</td>\n",
       "      <td>-0.092486</td>\n",
       "      <td>-0.043714</td>\n",
       "      <td>0.060733</td>\n",
       "      <td>-0.043994</td>\n",
       "      <td>0.028351</td>\n",
       "      <td>0.029190</td>\n",
       "      <td>0.009121</td>\n",
       "      <td>0.041973</td>\n",
       "      <td>0.019470</td>\n",
       "      <td>-0.075661</td>\n",
       "      <td>-0.006321</td>\n",
       "    </tr>\n",
       "    <tr>\n",
       "      <th>spam5!</th>\n",
       "      <td>-0.015985</td>\n",
       "      <td>0.058546</td>\n",
       "      <td>0.014021</td>\n",
       "      <td>-0.006057</td>\n",
       "      <td>0.122312</td>\n",
       "      <td>-0.039897</td>\n",
       "      <td>0.004971</td>\n",
       "      <td>0.167440</td>\n",
       "      <td>-0.022146</td>\n",
       "      <td>0.064539</td>\n",
       "      <td>0.041674</td>\n",
       "      <td>-0.049450</td>\n",
       "      <td>-0.004412</td>\n",
       "      <td>0.095788</td>\n",
       "      <td>-0.005868</td>\n",
       "      <td>-0.064143</td>\n",
       "    </tr>\n",
       "  </tbody>\n",
       "</table>\n",
       "</div>"
      ],
      "text/plain": [
       "          topic0    topic1    topic2    topic3    topic4    topic5    topic6    topic7    topic8    topic9   topic10  \\\n",
       "spam0   0.201168  0.002759  0.037228  0.010981 -0.019207 -0.052933  0.039108 -0.065877  0.011954 -0.082108  0.007014   \n",
       "spam1   0.404380 -0.093879 -0.077516  0.050893  0.100062  0.047156  0.022895  0.064805  0.023086 -0.024181 -0.005090   \n",
       "spam2! -0.030458 -0.048114  0.090183 -0.067078  0.090754 -0.043049 -0.000363 -0.001131 -0.056279  0.051145  0.127465   \n",
       "spam3   0.329047 -0.032781 -0.034562 -0.015795  0.052273  0.055629 -0.165693 -0.074899  0.061215 -0.107794  0.022755   \n",
       "spam4   0.002159  0.030850  0.038305  0.033865 -0.074720 -0.092486 -0.043714  0.060733 -0.043994  0.028351  0.029190   \n",
       "spam5! -0.015985  0.058546  0.014021 -0.006057  0.122312 -0.039897  0.004971  0.167440 -0.022146  0.064539  0.041674   \n",
       "\n",
       "         topic11   topic12   topic13   topic14   topic15  \n",
       "spam0   0.003900 -0.009920 -0.018896 -0.009127  0.034069  \n",
       "spam1  -0.040698  0.030589 -0.037617  0.060921  0.000459  \n",
       "spam2! -0.022684  0.016768 -0.012434 -0.032040  0.051736  \n",
       "spam3  -0.028829  0.054565 -0.086998  0.035908 -0.061661  \n",
       "spam4   0.009121  0.041973  0.019470 -0.075661 -0.006321  \n",
       "spam5! -0.049450 -0.004412  0.095788 -0.005868 -0.064143  "
      ]
     },
     "execution_count": 21,
     "metadata": {},
     "output_type": "execute_result"
    }
   ],
   "source": [
    "pca_topic_vectors.head(6)"
   ]
  },
  {
   "cell_type": "code",
   "execution_count": 28,
   "metadata": {},
   "outputs": [
    {
     "data": {
      "text/plain": [
       "[('go', 3807),\n",
       " ('until', 8487),\n",
       " ('jurong', 4675),\n",
       " ('point', 6296),\n",
       " (',', 13),\n",
       " ('crazy', 2549),\n",
       " ('..', 21),\n",
       " ('available', 1531),\n",
       " ('only', 5910),\n",
       " ('in', 4396)]"
      ]
     },
     "execution_count": 28,
     "metadata": {},
     "output_type": "execute_result"
    }
   ],
   "source": [
    "list(tfidf.vocabulary_.items())[:10]"
   ]
  },
  {
   "cell_type": "code",
   "execution_count": 29,
   "metadata": {},
   "outputs": [],
   "source": [
    "column_nums,terms=zip(*sorted(zip(tfidf.vocabulary_.values(),tfidf.vocabulary_.keys())))"
   ]
  },
  {
   "cell_type": "code",
   "execution_count": 31,
   "metadata": {},
   "outputs": [
    {
     "data": {
      "text/plain": [
       "('!', '\"', '#', '#150', '#5000', '$', '%', '&', \"'\", '(')"
      ]
     },
     "execution_count": 31,
     "metadata": {},
     "output_type": "execute_result"
    }
   ],
   "source": [
    "terms[:10]"
   ]
  },
  {
   "cell_type": "code",
   "execution_count": 32,
   "metadata": {},
   "outputs": [],
   "source": [
    "weights=pd.DataFrame(pca.components_,columns=terms,index=['topic{}'.format(i) for i in range(16)])"
   ]
  },
  {
   "cell_type": "code",
   "execution_count": 38,
   "metadata": {},
   "outputs": [],
   "source": [
    "pd.options.display.max_columns=8"
   ]
  },
  {
   "cell_type": "code",
   "execution_count": 39,
   "metadata": {},
   "outputs": [
    {
     "data": {
      "text/html": [
       "<div>\n",
       "<style scoped>\n",
       "    .dataframe tbody tr th:only-of-type {\n",
       "        vertical-align: middle;\n",
       "    }\n",
       "\n",
       "    .dataframe tbody tr th {\n",
       "        vertical-align: top;\n",
       "    }\n",
       "\n",
       "    .dataframe thead th {\n",
       "        text-align: right;\n",
       "    }\n",
       "</style>\n",
       "<table border=\"1\" class=\"dataframe\">\n",
       "  <thead>\n",
       "    <tr style=\"text-align: right;\">\n",
       "      <th></th>\n",
       "      <th>!</th>\n",
       "      <th>\"</th>\n",
       "      <th>#</th>\n",
       "      <th>#150</th>\n",
       "      <th>...</th>\n",
       "      <th>…</th>\n",
       "      <th>┾</th>\n",
       "      <th>〨ud</th>\n",
       "      <th>鈥</th>\n",
       "    </tr>\n",
       "  </thead>\n",
       "  <tbody>\n",
       "    <tr>\n",
       "      <th>topic0</th>\n",
       "      <td>-0.071</td>\n",
       "      <td>0.008</td>\n",
       "      <td>-0.001</td>\n",
       "      <td>-0.000</td>\n",
       "      <td>...</td>\n",
       "      <td>-0.002</td>\n",
       "      <td>0.001</td>\n",
       "      <td>0.001</td>\n",
       "      <td>0.001</td>\n",
       "    </tr>\n",
       "    <tr>\n",
       "      <th>topic1</th>\n",
       "      <td>0.064</td>\n",
       "      <td>0.008</td>\n",
       "      <td>0.000</td>\n",
       "      <td>-0.000</td>\n",
       "      <td>...</td>\n",
       "      <td>0.003</td>\n",
       "      <td>0.001</td>\n",
       "      <td>0.001</td>\n",
       "      <td>0.001</td>\n",
       "    </tr>\n",
       "    <tr>\n",
       "      <th>topic2</th>\n",
       "      <td>0.071</td>\n",
       "      <td>0.027</td>\n",
       "      <td>0.000</td>\n",
       "      <td>0.001</td>\n",
       "      <td>...</td>\n",
       "      <td>0.002</td>\n",
       "      <td>-0.001</td>\n",
       "      <td>-0.001</td>\n",
       "      <td>-0.001</td>\n",
       "    </tr>\n",
       "    <tr>\n",
       "      <th>topic3</th>\n",
       "      <td>-0.059</td>\n",
       "      <td>-0.032</td>\n",
       "      <td>-0.001</td>\n",
       "      <td>-0.000</td>\n",
       "      <td>...</td>\n",
       "      <td>0.001</td>\n",
       "      <td>0.001</td>\n",
       "      <td>0.001</td>\n",
       "      <td>0.001</td>\n",
       "    </tr>\n",
       "  </tbody>\n",
       "</table>\n",
       "<p>4 rows × 9232 columns</p>\n",
       "</div>"
      ],
      "text/plain": [
       "            !      \"      #   #150  ...      …      ┾    〨ud      鈥\n",
       "topic0 -0.071  0.008 -0.001 -0.000  ... -0.002  0.001  0.001  0.001\n",
       "topic1  0.064  0.008  0.000 -0.000  ...  0.003  0.001  0.001  0.001\n",
       "topic2  0.071  0.027  0.000  0.001  ...  0.002 -0.001 -0.001 -0.001\n",
       "topic3 -0.059 -0.032 -0.001 -0.000  ...  0.001  0.001  0.001  0.001\n",
       "\n",
       "[4 rows x 9232 columns]"
      ]
     },
     "execution_count": 39,
     "metadata": {},
     "output_type": "execute_result"
    }
   ],
   "source": [
    "weights.head(4).round(3)"
   ]
  },
  {
   "cell_type": "code",
   "execution_count": 40,
   "metadata": {},
   "outputs": [],
   "source": [
    "pd.options.display.max_columns=12"
   ]
  },
  {
   "cell_type": "code",
   "execution_count": 41,
   "metadata": {},
   "outputs": [],
   "source": [
    "deals=weights['! ;) :) half off free crazy deal only $ 80 %'.split()].round(3)*100"
   ]
  },
  {
   "cell_type": "code",
   "execution_count": 42,
   "metadata": {},
   "outputs": [
    {
     "data": {
      "text/html": [
       "<div>\n",
       "<style scoped>\n",
       "    .dataframe tbody tr th:only-of-type {\n",
       "        vertical-align: middle;\n",
       "    }\n",
       "\n",
       "    .dataframe tbody tr th {\n",
       "        vertical-align: top;\n",
       "    }\n",
       "\n",
       "    .dataframe thead th {\n",
       "        text-align: right;\n",
       "    }\n",
       "</style>\n",
       "<table border=\"1\" class=\"dataframe\">\n",
       "  <thead>\n",
       "    <tr style=\"text-align: right;\">\n",
       "      <th></th>\n",
       "      <th>!</th>\n",
       "      <th>;)</th>\n",
       "      <th>:)</th>\n",
       "      <th>half</th>\n",
       "      <th>off</th>\n",
       "      <th>free</th>\n",
       "      <th>crazy</th>\n",
       "      <th>deal</th>\n",
       "      <th>only</th>\n",
       "      <th>$</th>\n",
       "      <th>80</th>\n",
       "      <th>%</th>\n",
       "    </tr>\n",
       "  </thead>\n",
       "  <tbody>\n",
       "    <tr>\n",
       "      <th>topic0</th>\n",
       "      <td>-7.1</td>\n",
       "      <td>0.1</td>\n",
       "      <td>-0.5</td>\n",
       "      <td>-0.0</td>\n",
       "      <td>-0.4</td>\n",
       "      <td>-2.0</td>\n",
       "      <td>-0.0</td>\n",
       "      <td>-0.1</td>\n",
       "      <td>-2.2</td>\n",
       "      <td>0.3</td>\n",
       "      <td>-0.0</td>\n",
       "      <td>-0.0</td>\n",
       "    </tr>\n",
       "    <tr>\n",
       "      <th>topic1</th>\n",
       "      <td>6.4</td>\n",
       "      <td>0.0</td>\n",
       "      <td>7.4</td>\n",
       "      <td>0.1</td>\n",
       "      <td>0.4</td>\n",
       "      <td>-2.3</td>\n",
       "      <td>-0.2</td>\n",
       "      <td>-0.1</td>\n",
       "      <td>-3.8</td>\n",
       "      <td>-0.1</td>\n",
       "      <td>-0.0</td>\n",
       "      <td>-0.2</td>\n",
       "    </tr>\n",
       "    <tr>\n",
       "      <th>topic2</th>\n",
       "      <td>7.1</td>\n",
       "      <td>0.2</td>\n",
       "      <td>-0.1</td>\n",
       "      <td>0.0</td>\n",
       "      <td>0.3</td>\n",
       "      <td>4.4</td>\n",
       "      <td>0.1</td>\n",
       "      <td>-0.1</td>\n",
       "      <td>0.7</td>\n",
       "      <td>0.0</td>\n",
       "      <td>0.0</td>\n",
       "      <td>0.1</td>\n",
       "    </tr>\n",
       "    <tr>\n",
       "      <th>topic3</th>\n",
       "      <td>-5.9</td>\n",
       "      <td>-0.3</td>\n",
       "      <td>-7.1</td>\n",
       "      <td>0.2</td>\n",
       "      <td>0.3</td>\n",
       "      <td>-0.2</td>\n",
       "      <td>0.0</td>\n",
       "      <td>0.1</td>\n",
       "      <td>-2.3</td>\n",
       "      <td>0.1</td>\n",
       "      <td>-0.1</td>\n",
       "      <td>-0.3</td>\n",
       "    </tr>\n",
       "    <tr>\n",
       "      <th>topic4</th>\n",
       "      <td>38.1</td>\n",
       "      <td>-0.1</td>\n",
       "      <td>-12.5</td>\n",
       "      <td>-0.1</td>\n",
       "      <td>-0.2</td>\n",
       "      <td>9.9</td>\n",
       "      <td>0.1</td>\n",
       "      <td>-0.2</td>\n",
       "      <td>3.0</td>\n",
       "      <td>0.3</td>\n",
       "      <td>0.1</td>\n",
       "      <td>-0.1</td>\n",
       "    </tr>\n",
       "    <tr>\n",
       "      <th>topic5</th>\n",
       "      <td>-26.6</td>\n",
       "      <td>0.1</td>\n",
       "      <td>-1.6</td>\n",
       "      <td>-0.3</td>\n",
       "      <td>-0.7</td>\n",
       "      <td>-1.4</td>\n",
       "      <td>-0.6</td>\n",
       "      <td>-0.2</td>\n",
       "      <td>-1.8</td>\n",
       "      <td>-0.9</td>\n",
       "      <td>0.0</td>\n",
       "      <td>0.0</td>\n",
       "    </tr>\n",
       "    <tr>\n",
       "      <th>topic6</th>\n",
       "      <td>-10.9</td>\n",
       "      <td>-0.5</td>\n",
       "      <td>19.9</td>\n",
       "      <td>-0.4</td>\n",
       "      <td>-0.9</td>\n",
       "      <td>-0.6</td>\n",
       "      <td>-0.2</td>\n",
       "      <td>-0.1</td>\n",
       "      <td>-1.4</td>\n",
       "      <td>-0.0</td>\n",
       "      <td>-0.0</td>\n",
       "      <td>-0.1</td>\n",
       "    </tr>\n",
       "    <tr>\n",
       "      <th>topic7</th>\n",
       "      <td>16.1</td>\n",
       "      <td>0.1</td>\n",
       "      <td>-17.9</td>\n",
       "      <td>0.8</td>\n",
       "      <td>0.8</td>\n",
       "      <td>-2.8</td>\n",
       "      <td>0.0</td>\n",
       "      <td>0.1</td>\n",
       "      <td>-1.8</td>\n",
       "      <td>-0.3</td>\n",
       "      <td>0.0</td>\n",
       "      <td>-0.1</td>\n",
       "    </tr>\n",
       "    <tr>\n",
       "      <th>topic8</th>\n",
       "      <td>34.0</td>\n",
       "      <td>0.1</td>\n",
       "      <td>5.1</td>\n",
       "      <td>-0.5</td>\n",
       "      <td>-0.6</td>\n",
       "      <td>0.1</td>\n",
       "      <td>-0.4</td>\n",
       "      <td>-0.4</td>\n",
       "      <td>3.4</td>\n",
       "      <td>-0.6</td>\n",
       "      <td>-0.0</td>\n",
       "      <td>-0.2</td>\n",
       "    </tr>\n",
       "    <tr>\n",
       "      <th>topic9</th>\n",
       "      <td>7.9</td>\n",
       "      <td>-0.3</td>\n",
       "      <td>16.7</td>\n",
       "      <td>1.4</td>\n",
       "      <td>-0.9</td>\n",
       "      <td>6.2</td>\n",
       "      <td>-0.5</td>\n",
       "      <td>-0.4</td>\n",
       "      <td>3.0</td>\n",
       "      <td>-0.5</td>\n",
       "      <td>-0.0</td>\n",
       "      <td>0.0</td>\n",
       "    </tr>\n",
       "    <tr>\n",
       "      <th>topic10</th>\n",
       "      <td>-31.5</td>\n",
       "      <td>-0.2</td>\n",
       "      <td>-9.8</td>\n",
       "      <td>0.1</td>\n",
       "      <td>0.1</td>\n",
       "      <td>12.4</td>\n",
       "      <td>0.1</td>\n",
       "      <td>0.0</td>\n",
       "      <td>-0.0</td>\n",
       "      <td>-0.0</td>\n",
       "      <td>-0.1</td>\n",
       "      <td>-0.2</td>\n",
       "    </tr>\n",
       "    <tr>\n",
       "      <th>topic11</th>\n",
       "      <td>-18.5</td>\n",
       "      <td>-0.4</td>\n",
       "      <td>-31.0</td>\n",
       "      <td>-0.4</td>\n",
       "      <td>-1.3</td>\n",
       "      <td>5.0</td>\n",
       "      <td>0.0</td>\n",
       "      <td>-0.1</td>\n",
       "      <td>-0.6</td>\n",
       "      <td>0.5</td>\n",
       "      <td>0.0</td>\n",
       "      <td>0.3</td>\n",
       "    </tr>\n",
       "    <tr>\n",
       "      <th>topic12</th>\n",
       "      <td>-16.1</td>\n",
       "      <td>-0.3</td>\n",
       "      <td>46.3</td>\n",
       "      <td>-0.2</td>\n",
       "      <td>0.5</td>\n",
       "      <td>-0.7</td>\n",
       "      <td>-0.3</td>\n",
       "      <td>0.2</td>\n",
       "      <td>1.5</td>\n",
       "      <td>0.2</td>\n",
       "      <td>-0.0</td>\n",
       "      <td>0.2</td>\n",
       "    </tr>\n",
       "    <tr>\n",
       "      <th>topic13</th>\n",
       "      <td>19.9</td>\n",
       "      <td>-0.3</td>\n",
       "      <td>13.6</td>\n",
       "      <td>-0.3</td>\n",
       "      <td>0.3</td>\n",
       "      <td>5.6</td>\n",
       "      <td>0.5</td>\n",
       "      <td>0.1</td>\n",
       "      <td>-1.2</td>\n",
       "      <td>-0.5</td>\n",
       "      <td>0.1</td>\n",
       "      <td>-0.4</td>\n",
       "    </tr>\n",
       "    <tr>\n",
       "      <th>topic14</th>\n",
       "      <td>-6.5</td>\n",
       "      <td>-0.0</td>\n",
       "      <td>18.7</td>\n",
       "      <td>0.0</td>\n",
       "      <td>-0.6</td>\n",
       "      <td>7.9</td>\n",
       "      <td>0.2</td>\n",
       "      <td>-0.2</td>\n",
       "      <td>4.0</td>\n",
       "      <td>0.1</td>\n",
       "      <td>0.1</td>\n",
       "      <td>-0.2</td>\n",
       "    </tr>\n",
       "    <tr>\n",
       "      <th>topic15</th>\n",
       "      <td>-32.2</td>\n",
       "      <td>0.0</td>\n",
       "      <td>0.4</td>\n",
       "      <td>1.8</td>\n",
       "      <td>-0.6</td>\n",
       "      <td>6.0</td>\n",
       "      <td>-0.5</td>\n",
       "      <td>0.4</td>\n",
       "      <td>0.5</td>\n",
       "      <td>0.2</td>\n",
       "      <td>-0.0</td>\n",
       "      <td>0.1</td>\n",
       "    </tr>\n",
       "  </tbody>\n",
       "</table>\n",
       "</div>"
      ],
      "text/plain": [
       "            !   ;)    :)  half  off  free  crazy  deal  only    $   80    %\n",
       "topic0   -7.1  0.1  -0.5  -0.0 -0.4  -2.0   -0.0  -0.1  -2.2  0.3 -0.0 -0.0\n",
       "topic1    6.4  0.0   7.4   0.1  0.4  -2.3   -0.2  -0.1  -3.8 -0.1 -0.0 -0.2\n",
       "topic2    7.1  0.2  -0.1   0.0  0.3   4.4    0.1  -0.1   0.7  0.0  0.0  0.1\n",
       "topic3   -5.9 -0.3  -7.1   0.2  0.3  -0.2    0.0   0.1  -2.3  0.1 -0.1 -0.3\n",
       "topic4   38.1 -0.1 -12.5  -0.1 -0.2   9.9    0.1  -0.2   3.0  0.3  0.1 -0.1\n",
       "topic5  -26.6  0.1  -1.6  -0.3 -0.7  -1.4   -0.6  -0.2  -1.8 -0.9  0.0  0.0\n",
       "topic6  -10.9 -0.5  19.9  -0.4 -0.9  -0.6   -0.2  -0.1  -1.4 -0.0 -0.0 -0.1\n",
       "topic7   16.1  0.1 -17.9   0.8  0.8  -2.8    0.0   0.1  -1.8 -0.3  0.0 -0.1\n",
       "topic8   34.0  0.1   5.1  -0.5 -0.6   0.1   -0.4  -0.4   3.4 -0.6 -0.0 -0.2\n",
       "topic9    7.9 -0.3  16.7   1.4 -0.9   6.2   -0.5  -0.4   3.0 -0.5 -0.0  0.0\n",
       "topic10 -31.5 -0.2  -9.8   0.1  0.1  12.4    0.1   0.0  -0.0 -0.0 -0.1 -0.2\n",
       "topic11 -18.5 -0.4 -31.0  -0.4 -1.3   5.0    0.0  -0.1  -0.6  0.5  0.0  0.3\n",
       "topic12 -16.1 -0.3  46.3  -0.2  0.5  -0.7   -0.3   0.2   1.5  0.2 -0.0  0.2\n",
       "topic13  19.9 -0.3  13.6  -0.3  0.3   5.6    0.5   0.1  -1.2 -0.5  0.1 -0.4\n",
       "topic14  -6.5 -0.0  18.7   0.0 -0.6   7.9    0.2  -0.2   4.0  0.1  0.1 -0.2\n",
       "topic15 -32.2  0.0   0.4   1.8 -0.6   6.0   -0.5   0.4   0.5  0.2 -0.0  0.1"
      ]
     },
     "execution_count": 42,
     "metadata": {},
     "output_type": "execute_result"
    }
   ],
   "source": [
    "deals"
   ]
  },
  {
   "cell_type": "code",
   "execution_count": 44,
   "metadata": {},
   "outputs": [
    {
     "data": {
      "text/plain": [
       "topic0    -11.9\n",
       "topic1      7.6\n",
       "topic2     12.7\n",
       "topic3    -15.5\n",
       "topic4     38.3\n",
       "topic5    -34.0\n",
       "topic6      4.8\n",
       "topic7     -5.0\n",
       "topic8     40.0\n",
       "topic9     32.6\n",
       "topic10   -29.1\n",
       "topic11   -46.5\n",
       "topic12    31.3\n",
       "topic13    37.4\n",
       "topic14    23.5\n",
       "topic15   -23.9\n",
       "dtype: float64"
      ]
     },
     "execution_count": 44,
     "metadata": {},
     "output_type": "execute_result"
    }
   ],
   "source": [
    "deals.T.sum()"
   ]
  }
 ],
 "metadata": {
  "kernelspec": {
   "display_name": "Python 3",
   "language": "python",
   "name": "python3"
  },
  "language_info": {
   "codemirror_mode": {
    "name": "ipython",
    "version": 3
   },
   "file_extension": ".py",
   "mimetype": "text/x-python",
   "name": "python",
   "nbconvert_exporter": "python",
   "pygments_lexer": "ipython3",
   "version": "3.7.3"
  }
 },
 "nbformat": 4,
 "nbformat_minor": 2
}
